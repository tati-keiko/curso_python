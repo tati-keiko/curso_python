{
 "cells": [
  {
   "cell_type": "markdown",
   "id": "2dd8e989",
   "metadata": {},
   "source": [
    "# Primeiros Exemplos"
   ]
  },
  {
   "cell_type": "code",
   "execution_count": null,
   "id": "2466a245",
   "metadata": {},
   "outputs": [],
   "source": [
    "print('primeiro programa')\n",
    "1 \\\n",
    "  + 2\n",
    "\n",
    "help(print)"
   ]
  },
  {
   "cell_type": "code",
   "execution_count": null,
   "id": "2d506be1",
   "metadata": {},
   "outputs": [],
   "source": [
    "1+2+3\n",
    "4+5+6"
   ]
  },
  {
   "cell_type": "code",
   "execution_count": null,
   "id": "133ac08a",
   "metadata": {},
   "outputs": [],
   "source": [
    "print(1+2+3)\n",
    "print(4+5+6)"
   ]
  },
  {
   "cell_type": "markdown",
   "id": "58348f00",
   "metadata": {},
   "source": [
    "# Tipos Básicos"
   ]
  },
  {
   "cell_type": "code",
   "execution_count": null,
   "id": "c5d3c20f",
   "metadata": {},
   "outputs": [],
   "source": [
    "print(True)\n",
    "print(False)\n",
    "print(1.2+1)\n",
    "print('qualquer texto em qualquer língua')\n",
    "print(\"tbm funciona com aspas duplas\")\n",
    "print('você é ' + 3 * 'muito ' + 'legal!')\n",
    "#print(3 + '3') -> ambiguidade\n",
    "print([1, 2, 3])\n",
    "print({'nome':'Pedro', 'idade':24})\n",
    "print(None)"
   ]
  },
  {
   "cell_type": "markdown",
   "id": "0d4ace0a",
   "metadata": {},
   "source": [
    "# Variáveis"
   ]
  },
  {
   "cell_type": "code",
   "execution_count": null,
   "id": "fdf822ce",
   "metadata": {},
   "outputs": [],
   "source": [
    "a = 10\n",
    "b = 5.2\n",
    "\n",
    "print(a+b)\n",
    "\n",
    "a = 'Agora o a é uma string'\n",
    "print(a)\n",
    "a\n",
    "b\n",
    "\n",
    "#print(a+b) -> operando um string com um float da errado"
   ]
  },
  {
   "cell_type": "markdown",
   "id": "42ece396",
   "metadata": {},
   "source": [
    "# Comentários"
   ]
  },
  {
   "cell_type": "code",
   "execution_count": null,
   "id": "edd386be",
   "metadata": {},
   "outputs": [],
   "source": [
    "# Minhas variáveis \n",
    "salario = 4528.3\n",
    "despesas = 3845.4\n",
    "\n",
    "\"\"\"\n",
    "A ideia é calcular\n",
    "o quanto vai sobrar \n",
    "no fim do mes\n",
    "\"\"\"\n",
    "print(salario-despesas)\n",
    "\n",
    "# print('Fim')\n",
    "print('Fim de verdade') #comentário na mesma linha pode tbm \n",
    "\n",
    "'''\n",
    "Tres aspas simples\n",
    "também funciona\n",
    "'''\n",
    "\n",
    "print('Fim de verdade verdadeira \\\n",
    "      ')\n"
   ]
  },
  {
   "cell_type": "markdown",
   "id": "720bf634",
   "metadata": {},
   "source": [
    "# Operadores Aritméticos "
   ]
  },
  {
   "cell_type": "code",
   "execution_count": null,
   "id": "1ff0cd09",
   "metadata": {},
   "outputs": [],
   "source": [
    "print(1+2)\n",
    "print(4-7)\n",
    "print(2*3.4)\n",
    "print(9.4/3)\n",
    "print(9.4//3)\n",
    "print(2**8)\n",
    "print(10%3)\n",
    "\n",
    "a=12\n",
    "b=a\n",
    "print(a+b)"
   ]
  },
  {
   "cell_type": "markdown",
   "id": "e8682ee0",
   "metadata": {},
   "source": [
    "## Desafio  "
   ]
  },
  {
   "cell_type": "code",
   "execution_count": 252,
   "id": "006b5088",
   "metadata": {},
   "outputs": [
    {
     "name": "stdout",
     "output_type": "stream",
     "text": [
      "O percentual comprometido foi de 71.1849179092582%.\n",
      "O percentual comprometido foi de 71.1849179092582%.\n",
      "O percentual comprometido foi de 71.2%.\n",
      "O percentual comprometido foi de 71.1849179092582%.\n"
     ]
    }
   ],
   "source": [
    "salario = 3450.45\n",
    "despesas = 2456.2\n",
    "percentual = despesas*100/salario\n",
    "print('O percentual comprometido foi de '+ str(percentual) + '%.')\n",
    "print ('O percentual comprometido foi de {}%.' .format(percentual))\n",
    "print ('O percentual comprometido foi de %.1f%%.' %(percentual))\n",
    "print (f'O percentual comprometido foi de {percentual}%.')"
   ]
  },
  {
   "cell_type": "markdown",
   "id": "394a8b18",
   "metadata": {},
   "source": [
    "# Operadores Relacionais"
   ]
  },
  {
   "cell_type": "code",
   "execution_count": null,
   "id": "4945ec32",
   "metadata": {},
   "outputs": [],
   "source": [
    "3>4\n",
    "4>=3\n",
    "1<2\n",
    "3<=1\n",
    "3!=2\n",
    "3==3\n",
    "2=='2'"
   ]
  },
  {
   "cell_type": "markdown",
   "id": "d9888eed",
   "metadata": {},
   "source": [
    "# Operadores de Atribuição "
   ]
  },
  {
   "cell_type": "code",
   "execution_count": null,
   "id": "de1fc742",
   "metadata": {},
   "outputs": [],
   "source": [
    "a = 3\n",
    "a = a + 7\n",
    "print(a)\n",
    "\n",
    "a += 5\n",
    "print(a)\n",
    "\n",
    "a -= 3\n",
    "print(a)\n",
    "\n",
    "a *= 2\n",
    "print(a)\n",
    "\n",
    "a /= 4\n",
    "print(a)\n",
    "\n",
    "a %= 4\n",
    "print(a)\n",
    "\n",
    "a **= 8\n",
    "print(a)\n",
    "\n",
    "a //= 100\n",
    "print(a)"
   ]
  },
  {
   "cell_type": "markdown",
   "id": "1a8817d5",
   "metadata": {},
   "source": [
    "# Operadores Lógicos"
   ]
  },
  {
   "cell_type": "code",
   "execution_count": null,
   "id": "8d8bb8c8",
   "metadata": {},
   "outputs": [],
   "source": [
    "True or False\n",
    "7 != 3 and 2 > 3\n",
    "\n",
    "# Tabela verdade do AND\n",
    "True and True\n",
    "True and False\n",
    "False and True\n",
    "False and False\n",
    "\n",
    "# Tabela do OR\n",
    "True and True\n",
    "True and False\n",
    "False and True\n",
    "False and False\n",
    "\n",
    "# Tabela XOR (ou exclusivo)\n",
    "True != True\n",
    "True != False\n",
    "False != True\n",
    "False != False\n",
    "\n",
    "# Negação\n",
    "not True\n",
    "not False\n",
    "\n",
    "not 0\n",
    "not 1\n",
    "not -1\n",
    "not not -1\n",
    "\n",
    "# CUIDADO operadores bit a bit\n",
    "True & False\n",
    "True | False\n",
    "True ^ True\n",
    "\n",
    "# and bi a bit\n",
    "# 3 = 11 (binário)\n",
    "# 2 = 10\n",
    "# _ = 10\n",
    "3 & 2\n",
    "\n",
    "# or bit a bit\n",
    "# 3 = 11 (binário)\n",
    "# 2 = 10\n",
    "# _ = 11\n",
    "3 | 2\n",
    "\n",
    "# xor (ou exclusivo) bit a bit\n",
    "# 3 = 11 (binário)\n",
    "# 2 = 10\n",
    "# _ = 01\n",
    "3 ^ 2\n",
    "\n",
    "# Um pouco de realidade\n",
    "saldo = 1000\n",
    "salario = 4000\n",
    "despesas = 3900\n",
    "\n",
    "# meta = saldo > 0 and salario - despesas >= 0.2 * salario\n",
    "# meta\n",
    "\n",
    "# outra opção\n",
    "saldo_positivo = saldo > 0\n",
    "despesas_controladas = salario - despesas >= 0.2 * salario\n",
    "\n",
    "meta = saldo_positivo and despesas_controladas\n",
    "meta"
   ]
  },
  {
   "cell_type": "markdown",
   "id": "265b8a4a",
   "metadata": {},
   "source": [
    "## Desafio "
   ]
  },
  {
   "cell_type": "code",
   "execution_count": 13,
   "id": "a00e20e6",
   "metadata": {},
   "outputs": [
    {
     "name": "stdout",
     "output_type": "stream",
     "text": [
      "TV 50 = True  TV 32 = False  Sorvete = True  Saudável = False\n"
     ]
    },
    {
     "data": {
      "text/plain": [
       "'False, resultado = 1'"
      ]
     },
     "execution_count": 13,
     "metadata": {},
     "output_type": "execute_result"
    }
   ],
   "source": [
    "trabalho_terca = True\n",
    "trabalho_quinta = True\n",
    "\n",
    "tv_50 = trabalho_terca and trabalho_quinta\n",
    "tv_32 = trabalho_terca != trabalho_quinta\n",
    "sorvete = trabalho_terca or tabalho_quinta\n",
    "saudavel = not sorvete\n",
    "\n",
    "print(\"TV 50 = {}  TV 32 = {}  Sorvete = {}  Saudável = {}\"\n",
    "    .format(tv_50, tv_32, sorvete, saudavel))\n",
    "\n",
    "\"{1}, {2} = {0}\".format(1, False, 'resultado')"
   ]
  },
  {
   "cell_type": "markdown",
   "id": "21ad2ce8",
   "metadata": {},
   "source": [
    "# Operadores Unários "
   ]
  },
  {
   "cell_type": "code",
   "execution_count": null,
   "id": "a1168e57",
   "metadata": {},
   "outputs": [],
   "source": [
    "a = 3\n",
    "# a++ (nao funciona)\n",
    "# a += 1\n",
    "a\n",
    "# a-- (nao funciona)\n",
    "-a\n",
    "a = -a\n",
    "+a\n",
    "\n",
    "not 0\n",
    "not 1\n",
    "not -2\n",
    "not False\n",
    "not True\n",
    "not not False"
   ]
  },
  {
   "cell_type": "markdown",
   "id": "4965036b",
   "metadata": {},
   "source": [
    "# Operadores Ternários "
   ]
  },
  {
   "cell_type": "code",
   "execution_count": null,
   "id": "cda2f39b",
   "metadata": {},
   "outputs": [],
   "source": [
    "esta_chuvendo = False\n",
    "\n",
    "print('Hoje estou com as roupas ' + ('secas.', 'molhadas.')[esta_chuvendo])\n",
    "print('Hoje estou com as roupas ' + ('molhadas.' if esta_chuvendo else 'secas.'))"
   ]
  },
  {
   "cell_type": "markdown",
   "id": "81fbabf5",
   "metadata": {},
   "source": [
    "# Mais Operadores "
   ]
  },
  {
   "cell_type": "code",
   "execution_count": null,
   "id": "10ff0252",
   "metadata": {},
   "outputs": [],
   "source": [
    "# Operador de Membro\n",
    "lista = [1, 2, 3, 'Ana', 'Carla']\n",
    "2 in lista\n",
    "'Ana' not in lista\n",
    "\n",
    "# Operador de Identidade\n",
    "x = 3\n",
    "y = x\n",
    "z = 3\n",
    "x is y\n",
    "y is z\n",
    "x is not z\n",
    "\n",
    "lista_a = [1, 2 ,3]\n",
    "lista_b = lista_a\n",
    "lista_c = [1, 2, 3]\n",
    "lista_a is lista_b\n",
    "lista_b is lista_c\n",
    "lista_a is not lista_c"
   ]
  },
  {
   "cell_type": "markdown",
   "id": "5efa5fcf",
   "metadata": {},
   "source": [
    "# Builtins"
   ]
  },
  {
   "cell_type": "code",
   "execution_count": 21,
   "id": "f099338b",
   "metadata": {},
   "outputs": [
    {
     "name": "stdout",
     "output_type": "stream",
     "text": [
      "3.3333333333333335\n"
     ]
    },
    {
     "data": {
      "text/plain": [
       "['In',\n",
       " 'Out',\n",
       " '_',\n",
       " '_1',\n",
       " '_10',\n",
       " '_12',\n",
       " '_13',\n",
       " '_14',\n",
       " '_15',\n",
       " '_17',\n",
       " '_2',\n",
       " '_20',\n",
       " '_3',\n",
       " '_4',\n",
       " '_5',\n",
       " '_6',\n",
       " '_7',\n",
       " '_8',\n",
       " '__',\n",
       " '___',\n",
       " '__builtin__',\n",
       " '__builtins__',\n",
       " '__doc__',\n",
       " '__loader__',\n",
       " '__name__',\n",
       " '__package__',\n",
       " '__spec__',\n",
       " '_dh',\n",
       " '_i',\n",
       " '_i1',\n",
       " '_i10',\n",
       " '_i11',\n",
       " '_i12',\n",
       " '_i13',\n",
       " '_i14',\n",
       " '_i15',\n",
       " '_i16',\n",
       " '_i17',\n",
       " '_i18',\n",
       " '_i19',\n",
       " '_i2',\n",
       " '_i20',\n",
       " '_i21',\n",
       " '_i3',\n",
       " '_i4',\n",
       " '_i5',\n",
       " '_i6',\n",
       " '_i7',\n",
       " '_i8',\n",
       " '_i9',\n",
       " '_ih',\n",
       " '_ii',\n",
       " '_iii',\n",
       " '_oh',\n",
       " 'a',\n",
       " 'exit',\n",
       " 'get_ipython',\n",
       " 'math',\n",
       " 'nome',\n",
       " 'quit',\n",
       " 'saudavel',\n",
       " 'sorvete',\n",
       " 'trabalho_quinta',\n",
       " 'trabalho_terca',\n",
       " 'tv_32',\n",
       " 'tv_50']"
      ]
     },
     "execution_count": 21,
     "metadata": {},
     "output_type": "execute_result"
    }
   ],
   "source": [
    "# type()\n",
    "type(1)\n",
    "__builtins__.type('Fala galera!')\n",
    "__builtins__.print(10 /3)\n",
    "\n",
    "#__builtins__.help(__builtins__.dir)\n",
    "#dir()\n",
    "\n",
    "1 + 2\n",
    "\n",
    "\n",
    "# a = 7\n",
    "# import math\n",
    "# dir()\n",
    "dir(__builtins__)\n",
    "nome = 'joao da silva'\n",
    "type(nome)\n",
    "__builtin__.len(nome)\n",
    "dir()"
   ]
  },
  {
   "cell_type": "markdown",
   "id": "0220ee14",
   "metadata": {},
   "source": [
    "# Conversão de Tipos"
   ]
  },
  {
   "cell_type": "code",
   "execution_count": 39,
   "id": "a4adbb25",
   "metadata": {},
   "outputs": [
    {
     "name": "stdout",
     "output_type": "stream",
     "text": [
      "<class 'int'>\n",
      "<class 'str'>\n",
      "5\n",
      "23\n",
      "5.4\n"
     ]
    }
   ],
   "source": [
    "2 + 3\n",
    "'2' + '3'\n",
    "# 2 + '3'\n",
    "# print(2 + '3')\n",
    "\n",
    "a = 2\n",
    "b = '3'\n",
    "\n",
    "print(type(a))\n",
    "print(type(b))\n",
    "\n",
    "print(a + int(b))\n",
    "print(str(a) + b)\n",
    "\n",
    "type(str(a))\n",
    "\n",
    "# print(2 + int('3.4'))\n",
    "print(2 + float('3.4'))"
   ]
  },
  {
   "cell_type": "markdown",
   "id": "a48d6a12",
   "metadata": {},
   "source": [
    "# Coerção automática "
   ]
  },
  {
   "cell_type": "code",
   "execution_count": 1,
   "id": "804aae46",
   "metadata": {},
   "outputs": [
    {
     "data": {
      "text/plain": [
       "float"
      ]
     },
     "execution_count": 1,
     "metadata": {},
     "output_type": "execute_result"
    }
   ],
   "source": [
    "10 / 2\n",
    "type(10 / 2)\n",
    "10 / 3\n",
    "10 // 3\n",
    "type(10 // 3)\n",
    "10 // 3.3\n",
    "type(10 // 3.3)\n",
    "10 / 2.5\n",
    "type(10 / 2.5)\n",
    "2 + True\n",
    "2 + False\n",
    "type(1 + 2)\n",
    "type(2 + False)\n",
    "type(2.5 + True)"
   ]
  },
  {
   "cell_type": "markdown",
   "id": "61563eaf",
   "metadata": {},
   "source": [
    "# Tipos Numéricos"
   ]
  },
  {
   "cell_type": "code",
   "execution_count": 20,
   "id": "4b8005a5",
   "metadata": {},
   "outputs": [
    {
     "data": {
      "text/plain": [
       "3.6"
      ]
     },
     "execution_count": 20,
     "metadata": {},
     "output_type": "execute_result"
    }
   ],
   "source": [
    "dir(int)\n",
    "dir(float)\n",
    "\n",
    "\n",
    "a = 5\n",
    "b = 2.5\n",
    "a / b\n",
    "a + b\n",
    "a * b\n",
    "\n",
    "type(a)\n",
    "type(b)\n",
    "type(a-b)\n",
    "\n",
    "b.is_integer()\n",
    "5.0.is_integer()\n",
    "int.__add__(2,3)\n",
    "2 + 3\n",
    "\n",
    "(-2).__abs__()\n",
    "abs(-2)\n",
    "type(-2)\n",
    "\n",
    "(-3.6).__abs__()\n",
    "dir(float)\n",
    "abs(-3.6)"
   ]
  },
  {
   "cell_type": "code",
   "execution_count": 32,
   "id": "0db9f597",
   "metadata": {},
   "outputs": [
    {
     "data": {
      "text/plain": [
       "['Decimal',\n",
       " 'In',\n",
       " 'Out',\n",
       " '_',\n",
       " '_1',\n",
       " '_10',\n",
       " '_11',\n",
       " '_12',\n",
       " '_13',\n",
       " '_14',\n",
       " '_16',\n",
       " '_17',\n",
       " '_18',\n",
       " '_19',\n",
       " '_2',\n",
       " '_20',\n",
       " '_21',\n",
       " '_23',\n",
       " '_25',\n",
       " '_26',\n",
       " '_27',\n",
       " '_28',\n",
       " '_29',\n",
       " '_3',\n",
       " '_31',\n",
       " '_4',\n",
       " '_5',\n",
       " '_6',\n",
       " '_7',\n",
       " '_8',\n",
       " '_9',\n",
       " '__',\n",
       " '___',\n",
       " '__builtin__',\n",
       " '__builtins__',\n",
       " '__doc__',\n",
       " '__loader__',\n",
       " '__name__',\n",
       " '__package__',\n",
       " '__spec__',\n",
       " '_dh',\n",
       " '_i',\n",
       " '_i1',\n",
       " '_i10',\n",
       " '_i11',\n",
       " '_i12',\n",
       " '_i13',\n",
       " '_i14',\n",
       " '_i15',\n",
       " '_i16',\n",
       " '_i17',\n",
       " '_i18',\n",
       " '_i19',\n",
       " '_i2',\n",
       " '_i20',\n",
       " '_i21',\n",
       " '_i22',\n",
       " '_i23',\n",
       " '_i24',\n",
       " '_i25',\n",
       " '_i26',\n",
       " '_i27',\n",
       " '_i28',\n",
       " '_i29',\n",
       " '_i3',\n",
       " '_i30',\n",
       " '_i31',\n",
       " '_i32',\n",
       " '_i4',\n",
       " '_i5',\n",
       " '_i6',\n",
       " '_i7',\n",
       " '_i8',\n",
       " '_i9',\n",
       " '_ih',\n",
       " '_ii',\n",
       " '_iii',\n",
       " '_oh',\n",
       " 'a',\n",
       " 'b',\n",
       " 'decimal',\n",
       " 'exit',\n",
       " 'get_ipython',\n",
       " 'getcontext',\n",
       " 'quit']"
      ]
     },
     "execution_count": 32,
     "metadata": {},
     "output_type": "execute_result"
    }
   ],
   "source": [
    "# 1.1 + 2.2\n",
    "from decimal import Decimal, getcontext\n",
    "Decimal(1) / Decimal(7)\n",
    "\n",
    "getcontext().prec = 4\n",
    "Decimal(1) / Decimal(7)\n",
    "Decimal.max(Decimal(1), Decimal(7))\n",
    "dir(Decimal)\n",
    "\n",
    "1.1 + 2.2\n",
    "getcontext().prec = 10\n",
    "Decimal(1.1) + Decimal(2.2)\n",
    "\n",
    "import decimal\n",
    "dir(decimal)\n",
    "\n",
    "dir()"
   ]
  },
  {
   "cell_type": "markdown",
   "id": "dfd4db4c",
   "metadata": {},
   "source": [
    "# Tipo String"
   ]
  },
  {
   "cell_type": "code",
   "execution_count": 49,
   "id": "deead6f4",
   "metadata": {},
   "outputs": [
    {
     "name": "stdout",
     "output_type": "stream",
     "text": [
      "Texto com múltiplas\n",
      "\t... linhas\n",
      "Texto com múltiplas\n",
      "    ... linhas\n",
      "Também é possível\n",
      "... com 3 aspas simples\n"
     ]
    }
   ],
   "source": [
    "dir(str)\n",
    "nome = 'Pedro Martins'\n",
    "nome\n",
    "nome [0]\n",
    "# nome[0] = 'S' não funciona pq a string é imutável\n",
    "\n",
    "# 'marca d'água'\n",
    "\"Dias D'Avilla\" == 'Dias D\\'Avilla'\n",
    "\"Teste \\\"funciona\\\" \"\n",
    "texto = 'Texto entre aspas simples pode ter \"aspas duplas\"'\n",
    "texto\n",
    "\n",
    "doc = \"\"\"Texto com múltiplas\n",
    "    ... linhas\"\"\"\n",
    "doc\n",
    "print('Texto com múltiplas\\n\\t... linhas')\n",
    "print(doc)\n",
    "\n",
    "doc2 = '''Também é possível\n",
    "... com 3 aspas simples'''\n",
    "doc2\n",
    "print(doc2)"
   ]
  },
  {
   "cell_type": "code",
   "execution_count": 64,
   "id": "623f55e7",
   "metadata": {},
   "outputs": [
    {
     "data": {
      "text/plain": [
       "'aluaP anA'"
      ]
     },
     "execution_count": 64,
     "metadata": {},
     "output_type": "execute_result"
    }
   ],
   "source": [
    "nome = 'Ana Paula'\n",
    "nome[0]\n",
    "nome[6]\n",
    "nome[-3]\n",
    "nome[4:]\n",
    "nome[-5:]\n",
    "nome[:3]\n",
    "nome[2:5]\n",
    "\n",
    "numeros = '1234567890'\n",
    "numeros\n",
    "numeros[::]\n",
    "numeros[::2]\n",
    "numeros[1::2]\n",
    "numeros[::-1]\n",
    "numeros[::-2]\n",
    "\n",
    "nome[::-1]"
   ]
  },
  {
   "cell_type": "code",
   "execution_count": 88,
   "id": "e8da2605",
   "metadata": {},
   "outputs": [
    {
     "data": {
      "text/plain": [
       "['PYTHON É UMA LINGUAG', 'M ', 'XC', 'L', 'NT', '']"
      ]
     },
     "execution_count": 88,
     "metadata": {},
     "output_type": "execute_result"
    }
   ],
   "source": [
    "frase = 'Python é uma linguagem excelente'\n",
    "'py' not in frase\n",
    "'ing' in frase\n",
    "len(frase)\n",
    "frase.lower()\n",
    "'py' in frase.lower()\n",
    "frase\n",
    "frase.upper()\n",
    "frase = frase.upper()\n",
    "frase\n",
    "\n",
    "frase.split()\n",
    "frase.split('E')\n",
    "\n",
    "# dir(str)\n",
    "# help(str.center)"
   ]
  },
  {
   "cell_type": "code",
   "execution_count": 96,
   "id": "aaa65fa4",
   "metadata": {},
   "outputs": [
    {
     "data": {
      "text/plain": [
       "True"
      ]
     },
     "execution_count": 96,
     "metadata": {},
     "output_type": "execute_result"
    }
   ],
   "source": [
    "a = '123'\n",
    "b = ' de Oliveira 4'\n",
    "a + b\n",
    "a.__add__(b)\n",
    "str.__add__(a, b)\n",
    "\n",
    "dir(str)\n",
    "len(a)\n",
    "a.__len__()\n",
    "'1' in a\n",
    "a.__contains__('1')"
   ]
  },
  {
   "cell_type": "markdown",
   "id": "02b6e908",
   "metadata": {},
   "source": [
    "# Lista "
   ]
  },
  {
   "cell_type": "code",
   "execution_count": 119,
   "id": "d6c07096",
   "metadata": {},
   "outputs": [
    {
     "data": {
      "text/plain": [
       "[1, 5, [1, 2, 3]]"
      ]
     },
     "execution_count": 119,
     "metadata": {},
     "output_type": "execute_result"
    }
   ],
   "source": [
    "lista = []\n",
    "type(lista)\n",
    "dir(list)\n",
    "# help(list)\n",
    "len(lista)\n",
    "lista.append(1)\n",
    "lista.append(5)\n",
    "lista.append([1, 2, 3])\n",
    "lista\n",
    "len(lista)\n",
    "\n",
    "nova_lista = [1, 5, 'Ana', 'Bia']\n",
    "nova_lista\n",
    "nova_lista.remove(5)\n",
    "nova_lista\n",
    "nova_lista.reverse()\n",
    "nova_lista\n",
    "lista"
   ]
  },
  {
   "cell_type": "code",
   "execution_count": 131,
   "id": "51d0ee39",
   "metadata": {},
   "outputs": [
    {
     "data": {
      "text/plain": [
       "1"
      ]
     },
     "execution_count": 131,
     "metadata": {},
     "output_type": "execute_result"
    }
   ],
   "source": [
    "lista = [1, 5, 'Rebeca', 'Guilherme', 3.1415]\n",
    "lista.index('Guilherme')\n",
    "# lista.index(42)\n",
    "lista[2]\n",
    "1 in lista\n",
    "'Rebeca' in lista\n",
    "'Pedro' not in lista\n",
    "lista[0]\n",
    "lista[4]\n",
    "# lista[5]\n",
    "lista[-1]\n",
    "lista[-5]\n"
   ]
  },
  {
   "cell_type": "code",
   "execution_count": 145,
   "id": "3fe6dd9a",
   "metadata": {},
   "outputs": [
    {
     "data": {
      "text/plain": [
       "['Ana']"
      ]
     },
     "execution_count": 145,
     "metadata": {},
     "output_type": "execute_result"
    }
   ],
   "source": [
    "lista = ['Ana', 'Lia', 'Rui', ' Paulo', 'Dani']\n",
    "lista[1:3]\n",
    "lista[1:-1]\n",
    "lista[1:]\n",
    "lista[:-1]\n",
    "lista[:]\n",
    "lista[::2]\n",
    "lista[1::2]\n",
    "lista[::-1]\n",
    "del lista[2]\n",
    "lista\n",
    "del lista[1:]\n",
    "lista"
   ]
  },
  {
   "cell_type": "code",
   "execution_count": 167,
   "id": "08764aa8",
   "metadata": {},
   "outputs": [
    {
     "data": {
      "text/plain": [
       "['mané', 'Ana', 'Tati', 'Pedro']"
      ]
     },
     "execution_count": 167,
     "metadata": {},
     "output_type": "execute_result"
    }
   ],
   "source": [
    "lista = ['Pedro', 'Tati', 'Ana']\n",
    "lista[0]\n",
    "lista.append('Pedroana')\n",
    "lista[3]\n",
    "lista[::-1]\n",
    "lista\n",
    "lista.reverse()\n",
    "lista\n",
    "lista[0] = 'mané'\n",
    "lista"
   ]
  },
  {
   "cell_type": "markdown",
   "id": "bf5b4f19",
   "metadata": {},
   "source": [
    "# Tupla"
   ]
  },
  {
   "cell_type": "code",
   "execution_count": 175,
   "id": "650e5af3",
   "metadata": {},
   "outputs": [
    {
     "data": {
      "text/plain": [
       "6"
      ]
     },
     "execution_count": 175,
     "metadata": {},
     "output_type": "execute_result"
    }
   ],
   "source": [
    "tupla = tuple()\n",
    "tupla = ()\n",
    "type(tupla)\n",
    "# dir(tuple)\n",
    "# help(tuple)\n",
    "tupla = ('um')\n",
    "type(tupla)\n",
    "tupla = ('um',)\n",
    "type(tupla)\n",
    "tupla[0]\n",
    "# tupla[0] = 'novo'\n",
    "cores = ('verde', 'amarelo', 'azul', 'azul', 'azul', 'branco')\n",
    "cores[0]\n",
    "cores[-1]\n",
    "cores[1:]\n",
    "\n",
    "cores.index('amarelo')\n",
    "cores.count('azul')\n",
    "len(cores)\n"
   ]
  },
  {
   "cell_type": "markdown",
   "id": "47807a38",
   "metadata": {},
   "source": [
    "# Dicionário"
   ]
  },
  {
   "cell_type": "code",
   "execution_count": 196,
   "id": "91a64c87",
   "metadata": {},
   "outputs": [
    {
     "data": {
      "text/plain": [
       "[]"
      ]
     },
     "execution_count": 196,
     "metadata": {},
     "output_type": "execute_result"
    }
   ],
   "source": [
    "pessoa = {'nome':'Prof(a) Ana', 'idade':38, 'cursos':['Inglês', 'Portguês']}\n",
    "type(pessoa)\n",
    "dir(dict)\n",
    "len(pessoa)\n",
    "\n",
    "pessoa\n",
    "pessoa['nome']\n",
    "pessoa['idade']\n",
    "pessoa['cursos']\n",
    "pessoa['cursos'][1]\n",
    "# pessoa['tags']\n",
    "pessoa.keys()\n",
    "pessoa.values()\n",
    "pessoa.items()\n",
    "pessoa['idade']\n",
    "pessoa.get('idade')\n",
    "pessoa.get('tags')\n",
    "pessoa.get('tags', [])"
   ]
  },
  {
   "cell_type": "code",
   "execution_count": 204,
   "id": "d3122fa4",
   "metadata": {},
   "outputs": [
    {
     "data": {
      "text/plain": [
       "{}"
      ]
     },
     "execution_count": 204,
     "metadata": {},
     "output_type": "execute_result"
    }
   ],
   "source": [
    "pessoa = {'nome':'Alberto', 'idade': 43, 'cursos':['React', 'Python']}\n",
    "pessoa['idade']=44\n",
    "pessoa['cursos'].append('Angular')\n",
    "pessoa\n",
    "pessoa.pop('idade')\n",
    "\n",
    "pessoa\n",
    "pessoa.update({'idade':40, 'sexo': 'M'})\n",
    "pessoa\n",
    "\n",
    "del pessoa['cursos']\n",
    "pessoa\n",
    "pessoa.clear()\n",
    "pessoa"
   ]
  },
  {
   "cell_type": "markdown",
   "id": "c7dc7797",
   "metadata": {},
   "source": [
    "# Conjunto "
   ]
  },
  {
   "cell_type": "code",
   "execution_count": 229,
   "id": "66102074",
   "metadata": {},
   "outputs": [
    {
     "name": "stdout",
     "output_type": "stream",
     "text": [
      "{'o', 'c', 'd', 'r', '3'}\n",
      "True False True\n"
     ]
    },
    {
     "data": {
      "text/plain": [
       "{1, 3}"
      ]
     },
     "execution_count": 229,
     "metadata": {},
     "output_type": "execute_result"
    }
   ],
   "source": [
    "a = {1, 2, 3}\n",
    "type(a)\n",
    "# a[0]\n",
    "a = set('codddd3r')\n",
    "print(a)\n",
    "print(4 not in a, 4 in a, '3' in a)\n",
    "{1, 2, 3} == {2, 3, 2, 1, 1}\n",
    "\n",
    "# operações\n",
    "c1 = {1, 2}\n",
    "c2 = {2, 3}\n",
    "c1.union(c2)\n",
    "c1.intersection(c2)\n",
    "c1.difference(c2)\n",
    "c2.difference(c1)\n",
    "c1.update(c2)\n",
    "c1\n",
    "c2 <= c1 #ver se é subconjuto\n",
    "c1 >= c2\n",
    "c1 <= c2\n",
    "\n",
    "{1, 2, 3} - {2}\n",
    "c1 - c2\n",
    "c1 -= {2}\n",
    "c1"
   ]
  },
  {
   "cell_type": "markdown",
   "id": "3c8dad6f",
   "metadata": {},
   "source": [
    "# Interpolação "
   ]
  },
  {
   "cell_type": "code",
   "execution_count": 243,
   "id": "783a3986",
   "metadata": {},
   "outputs": [
    {
     "name": "stdout",
     "output_type": "stream",
     "text": [
      "Nome: Ana Idade: 30.99 False 1\n",
      "Nome: Ana Idade: 30.9875\n",
      "Nome: Ana Idade: 30.9875\n",
      "Nome: Ana Idade: 30.9875\n"
     ]
    }
   ],
   "source": [
    "from string import Template\n",
    "\n",
    "nome, idade = 'Ana', 30.9875\n",
    "\n",
    "print('Nome: %s Idade: %.2f %r %d' %(nome, idade, False, True)) # mais antiga\n",
    "print('Nome: {0} Idade: {1}' .format(nome, idade)) # python < 3.6\n",
    "print(f'Nome: {nome} Idade: {idade}') # pyhton >= 3.6\n",
    "\n",
    "s = Template('Nome: $n Idade: $i')\n",
    "print(s.substitute(n=nome, i=idade))"
   ]
  }
 ],
 "metadata": {
  "kernelspec": {
   "display_name": "Python 3 (ipykernel)",
   "language": "python",
   "name": "python3"
  },
  "language_info": {
   "codemirror_mode": {
    "name": "ipython",
    "version": 3
   },
   "file_extension": ".py",
   "mimetype": "text/x-python",
   "name": "python",
   "nbconvert_exporter": "python",
   "pygments_lexer": "ipython3",
   "version": "3.9.7"
  }
 },
 "nbformat": 4,
 "nbformat_minor": 5
}
